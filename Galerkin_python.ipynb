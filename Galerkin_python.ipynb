{
 "cells": [
  {
   "cell_type": "code",
   "execution_count": 1,
   "id": "cb24599e-613d-4ab8-b333-6430febcc84d",
   "metadata": {},
   "outputs": [],
   "source": [
    "import numpy as np\n",
    "from scipy import integrate\n",
    "from scipy.misc import derivative\n",
    "import warnings"
   ]
  },
  {
   "cell_type": "code",
   "execution_count": 2,
   "id": "dc443901-fad8-4083-abd8-86034eea12c5",
   "metadata": {},
   "outputs": [],
   "source": [
    "warnings.filterwarnings(\"ignore\", category=DeprecationWarning)"
   ]
  },
  {
   "cell_type": "code",
   "execution_count": 87,
   "id": "bc99e754-10b5-45b1-8700-3b5cfbc726d5",
   "metadata": {},
   "outputs": [],
   "source": [
    "def linear_combination_function(coefficients, basis_functions):\n",
    "    def combined_function(x):\n",
    "        return sum(c * f(x) for c, f in zip(coefficients, basis_functions))\n",
    "    return combined_function"
   ]
  },
  {
   "cell_type": "code",
   "execution_count": 3,
   "id": "b1f73b62-72c0-4ca0-9338-a33e54e5c807",
   "metadata": {},
   "outputs": [],
   "source": [
    "def trapezoidal_rule(func, x_inicial, x_final, num_points):\n",
    "    x = np.linspace(x_inicial, x_final, num_points)\n",
    "    y = func(x)\n",
    "    h = (x_final - x_inicial) / (num_points - 1)\n",
    "    integral = (h / 2) * (y[0] + 2 * np.sum(y[1:-1]) + y[-1])\n",
    "    return integral"
   ]
  },
  {
   "cell_type": "code",
   "execution_count": 4,
   "id": "aed2d156-860a-49df-aaf4-247bc831a293",
   "metadata": {},
   "outputs": [],
   "source": [
    "def gaussian_quad(func, x_inicial, x_final, args=None):\n",
    "    def_integral = integrate.quad(func, x_inicial, x_final)[0]\n",
    "    return def_integral"
   ]
  },
  {
   "cell_type": "code",
   "execution_count": 55,
   "id": "ba338681-5cff-4dba-b10a-e7ec76f9e4d7",
   "metadata": {},
   "outputs": [],
   "source": [
    "def galerkin_method(basis_functions, fonte, funcionais, x_inicial, x_final, integration_method, args=None):\n",
    "    #args = num_partitions caso integration_method == trapezoidal_rule]\n",
    "    n = len(basis_functions)\n",
    "    A = np.zeros((n, n))\n",
    "    l = np.zeros(n) \n",
    "\n",
    "    funcional_incognita = funcionais['funcional_incognita']    \n",
    "    funcional_fonte = funcionais['funcional_fonte']\n",
    "    \n",
    "    for i in range(n):\n",
    "        for j in range(n):\n",
    "            A[i, j] = funcional_incognita(basis_functions[i], basis_functions[j], integration_method, x_inicial, x_final, args)\n",
    "            \n",
    "        l[i] = funcional_fonte(basis_functions[i], fonte, integration_method, x_inicial, x_final, args)\n",
    "\n",
    "    coef = np.linalg.solve(A, l)\n",
    "    return coef"
   ]
  },
  {
   "cell_type": "markdown",
   "id": "fd424ffd-44a3-4a7b-88d4-b665c49555fc",
   "metadata": {},
   "source": [
    "## Poisson: $$-u^{\"}(x) = f(x), \\quad \\text{com} \\quad u(x_{inicial})=u(x_{final})=0.$$"
   ]
  },
  {
   "cell_type": "code",
   "execution_count": 35,
   "id": "a5bbdb28-bc6d-4a87-8afe-f703d0e04eeb",
   "metadata": {},
   "outputs": [],
   "source": [
    "def funcional_incognita_Poisson(func1, func2, integration_method, x_inicial, x_final, args):\n",
    "    integrand = lambda x: derivative(func1, x, dx=1e-4) * derivative(func2, x, dx=1e-4)\n",
    "    return integration_method(integrand, x_inicial, x_final, args)\n",
    "\n",
    "def funcional_fonte_Poisson(func, fonte, integration_method, x_inicial, x_final, args):\n",
    "    integrand = lambda x: func(x) * fonte(x)\n",
    "    return integration_method(integrand, x_inicial, x_final, args)\n",
    "\n",
    "funcionais_Poisson = {'funcional_incognita': funcional_incognita_Poisson, 'funcional_fonte': funcional_fonte_Poisson}"
   ]
  },
  {
   "cell_type": "code",
   "execution_count": 59,
   "id": "6c55e314-dcd4-4ed0-a4b9-9c1b2aadbfce",
   "metadata": {},
   "outputs": [
    {
     "data": {
      "text/plain": [
       "array([ 1.00000115e+00,  4.40088816e-07, -1.09137987e-13])"
      ]
     },
     "execution_count": 59,
     "metadata": {},
     "output_type": "execute_result"
    }
   ],
   "source": [
    "basis_func_1 = lambda x: np.sin(np.pi * x) / (np.pi)**2 \n",
    "\n",
    "basis_func_2 = lambda x: x*(x-1)\n",
    "\n",
    "basis_func_3 = lambda x: x*(x-1)**2\n",
    "\n",
    "basis_func_4 = lambda x: (x**2)*(x-1)\n",
    "\n",
    "f = lambda x: np.sin(np.pi * x)\n",
    "\n",
    "basis_functions = [basis_func_1, basis_func_2, basis_func_3]\n",
    "x_inicial = 0\n",
    "x_final = 1\n",
    "num_partitions = 100\n",
    "\n",
    "coef_gaussian = galerkin_method(basis_functions, f, funcionais_Poisson, x_inicial,\n",
    "                                x_final, gaussian_quad)\n",
    "coef_gaussian"
   ]
  },
  {
   "cell_type": "code",
   "execution_count": 82,
   "id": "4d68a8ee-f88f-4c28-b6c2-93ee169ca2f0",
   "metadata": {},
   "outputs": [],
   "source": [
    "solucao = linear_combination_function(coef_gaussian, basis_functions)"
   ]
  },
  {
   "cell_type": "code",
   "execution_count": 86,
   "id": "16fe0e85-5fce-46ad-b94e-e88327590238",
   "metadata": {},
   "outputs": [
    {
     "data": {
      "text/plain": [
       "array([0.00000000e+00, 3.21471108e-03, 6.42618531e-03, 9.63118900e-03,\n",
       "       1.28264950e-02, 1.60088858e-02, 1.91751571e-02, 2.23221208e-02,\n",
       "       2.54466080e-02, 2.85454727e-02, 3.16155946e-02, 3.46538823e-02,\n",
       "       3.76572765e-02, 4.06227531e-02, 4.35473260e-02, 4.64280505e-02,\n",
       "       4.92620260e-02, 5.20463988e-02, 5.47783653e-02, 5.74551746e-02,\n",
       "       6.00741315e-02, 6.26325989e-02, 6.51280005e-02, 6.75578238e-02,\n",
       "       6.99196221e-02, 7.22110173e-02, 7.44297021e-02, 7.65734425e-02,\n",
       "       7.86400799e-02, 8.06275334e-02, 8.25338019e-02, 8.43569658e-02,\n",
       "       8.60951894e-02, 8.77467224e-02, 8.93099019e-02, 9.07831539e-02,\n",
       "       9.21649949e-02, 9.34540336e-02, 9.46489720e-02, 9.57486069e-02,\n",
       "       9.67518310e-02, 9.76576342e-02, 9.84651045e-02, 9.91734287e-02,\n",
       "       9.97818936e-02, 1.00289887e-01, 1.00696896e-01, 1.01002513e-01,\n",
       "       1.01206428e-01, 1.01308437e-01, 1.01308437e-01, 1.01206428e-01,\n",
       "       1.01002513e-01, 1.00696896e-01, 1.00289887e-01, 9.97818936e-02,\n",
       "       9.91734287e-02, 9.84651045e-02, 9.76576342e-02, 9.67518310e-02,\n",
       "       9.57486069e-02, 9.46489720e-02, 9.34540336e-02, 9.21649949e-02,\n",
       "       9.07831539e-02, 8.93099019e-02, 8.77467224e-02, 8.60951894e-02,\n",
       "       8.43569658e-02, 8.25338019e-02, 8.06275334e-02, 7.86400799e-02,\n",
       "       7.65734425e-02, 7.44297021e-02, 7.22110173e-02, 6.99196221e-02,\n",
       "       6.75578238e-02, 6.51280005e-02, 6.26325989e-02, 6.00741315e-02,\n",
       "       5.74551746e-02, 5.47783653e-02, 5.20463988e-02, 4.92620260e-02,\n",
       "       4.64280505e-02, 4.35473260e-02, 4.06227531e-02, 3.76572765e-02,\n",
       "       3.46538823e-02, 3.16155946e-02, 2.85454727e-02, 2.54466080e-02,\n",
       "       2.23221208e-02, 1.91751571e-02, 1.60088858e-02, 1.28264950e-02,\n",
       "       9.63118900e-03, 6.42618531e-03, 3.21471108e-03, 1.24082806e-17])"
      ]
     },
     "execution_count": 86,
     "metadata": {},
     "output_type": "execute_result"
    }
   ],
   "source": [
    "solucao(np.linspace(0,1,100))"
   ]
  },
  {
   "attachments": {},
   "cell_type": "markdown",
   "id": "9e30adf9-0427-4947-985e-b41280e2ca5b",
   "metadata": {},
   "source": [
    "Preciso criar os funcionais do primeiro problema da Lista."
   ]
  }
 ],
 "metadata": {
  "kernelspec": {
   "display_name": "Python 3 (ipykernel)",
   "language": "python",
   "name": "python3"
  },
  "language_info": {
   "codemirror_mode": {
    "name": "ipython",
    "version": 3
   },
   "file_extension": ".py",
   "mimetype": "text/x-python",
   "name": "python",
   "nbconvert_exporter": "python",
   "pygments_lexer": "ipython3",
   "version": "3.12.3"
  }
 },
 "nbformat": 4,
 "nbformat_minor": 5
}
