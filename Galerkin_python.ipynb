{
 "cells": [
  {
   "cell_type": "code",
   "execution_count": 2,
   "id": "0153d880-dc6b-42ad-bfca-da4189f5d34e",
   "metadata": {},
   "outputs": [],
   "source": [
    "import numpy as np\n",
    "from scipy import integrate\n",
    "from scipy.misc import derivative\n",
    "import warnings\n",
    "import matplotlib.pyplot as plt\n",
    "\n",
    "warnings.filterwarnings(\"ignore\", category=DeprecationWarning)"
   ]
  },
  {
   "cell_type": "code",
   "execution_count": 3,
   "id": "914161d8-87f9-431d-a5fe-4a62bcb5d7ed",
   "metadata": {},
   "outputs": [],
   "source": [
    "def linear_combination_function(coefficients, basis_functions):\n",
    "    def combined_function(x):\n",
    "        return sum(c * f(x) for c, f in zip(coefficients, basis_functions))\n",
    "    return combined_function\n",
    "\n",
    "def trapezoidal_rule(func, x_inicial, x_final, num_points):\n",
    "    x = np.linspace(x_inicial, x_final, num_points)\n",
    "    y = func(x)\n",
    "    h = (x_final - x_inicial) / (num_points - 1)\n",
    "    integral = (h / 2) * (y[0] + 2 * np.sum(y[1:-1]) + y[-1])\n",
    "    return integral\n",
    "\n",
    "def gaussian_quad(func, x_inicial, x_final, args=None):\n",
    "    def_integral = integrate.quad(func, x_inicial, x_final)[0]\n",
    "    return def_integral\n",
    "\n",
    "def galerkin_method(basis_functions, fonte, funcionais, x_inicial, x_final, integration_method, args=None):\n",
    "    #args = num_partitions caso integration_method == trapezoidal_rule]\n",
    "    n = len(basis_functions)\n",
    "    A = np.zeros((n, n))\n",
    "    l = np.zeros(n) \n",
    "\n",
    "    funcional_incognita = funcionais['funcional_incognita']    \n",
    "    funcional_fonte = funcionais['funcional_fonte']\n",
    "    \n",
    "    for i in range(n):\n",
    "        for j in range(n):\n",
    "            A[i, j] = funcional_incognita(basis_functions[i], basis_functions[j], integration_method, x_inicial, x_final, args)\n",
    "            \n",
    "        l[i] = funcional_fonte(basis_functions[i], fonte, integration_method, x_inicial, x_final, args)\n",
    "\n",
    "    coef = np.linalg.solve(A, l)\n",
    "    return coef\n",
    "\n",
    "def plot_sol(X, sol_aproximada, sol_analitical):\n",
    "    \n",
    "    err = lambda x: sol_analitica(x) - sol_aproximada(x)\n",
    "    \n",
    "    plt.figure(figsize=(15,6))\n",
    "    plt.plot(X, sol_aproximada(X), label=\"solução aproximada\", linestyle='-', color='b')\n",
    "    plt.plot(X, sol_analitica(X), label=\"solução analítica\", linestyle='-', color='r')\n",
    "    plt.plot(X, err(X), label=\"Erro\", linestyle='--')\n",
    "    plt.ylabel(\"y\")\n",
    "    plt.xlabel(\"x\")\n",
    "    plt.legend(loc='best', fontsize=12)\n",
    "    plt.grid(True)\n",
    "    plt.title(\"Comparação entre a solução aproximada e a analítica\")\n",
    "    \n",
    "    plt.savefig(\"C:\\\\Users\\\\Usuario\\\\OneDrive\\\\Documents\\\\UNICAMP\\\\MS712\\\\imagens\\\\last_image.png\")\n",
    "    plt.show()\n",
    "\n",
    "\n",
    "    err_rel = np.sqrt( integrate.simpson(err(X)**2) / integrate.simpson(sol_analitica(X)**2) )\n",
    "    print(f'Erro relativo: {err_rel}')"
   ]
  },
  {
   "cell_type": "markdown",
   "id": "fd424ffd-44a3-4a7b-88d4-b665c49555fc",
   "metadata": {},
   "source": [
    "### Poisson:\n",
    "\n",
    "$$-u^{\"}(x) = f(x), \\quad \\text{com} \\quad u(x_{inicial})=u(x_{final})=0.$$"
   ]
  },
  {
   "cell_type": "code",
   "execution_count": 4,
   "id": "a5bbdb28-bc6d-4a87-8afe-f703d0e04eeb",
   "metadata": {},
   "outputs": [],
   "source": [
    "def funcional_incognita_Poisson(func1, func2, integration_method, x_inicial, x_final, args):\n",
    "    integrand = lambda x: derivative(func1, x, dx=1e-4) * derivative(func2, x, dx=1e-4)\n",
    "    return integration_method(integrand, x_inicial, x_final, args)\n",
    "\n",
    "def funcional_fonte_Poisson(func, fonte, integration_method, x_inicial, x_final, args):\n",
    "    integrand = lambda x: func(x) * fonte(x)\n",
    "    return integration_method(integrand, x_inicial, x_final, args)\n",
    "\n",
    "funcionais_Poisson = {'funcional_incognita': funcional_incognita_Poisson, 'funcional_fonte': funcional_fonte_Poisson}"
   ]
  },
  {
   "cell_type": "code",
   "execution_count": 5,
   "id": "eb335aac-fe3a-4b29-aad0-5d69e872dbe2",
   "metadata": {},
   "outputs": [],
   "source": [
    "x_inicial = 0\n",
    "x_final = 1\n",
    "\n",
    "basis_func_1 = lambda x: np.sin(np.pi * x) / (np.pi)**2 \n",
    "basis_func_2 = lambda x: x*(x-1)\n",
    "basis_func_3 = lambda x: x*(x-1)**2\n",
    "basis_func_4 = lambda x: (x**2)*(x-1)\n",
    "\n",
    "basis_functions = [basis_func_1, basis_func_2, basis_func_3, basis_func_4]\n",
    "\n",
    "f = lambda x: np.sin(np.pi * x)\n",
    "\n",
    "sol_analitica = lambda x: np.sin(np.pi * x) / (np.pi)**2 "
   ]
  },
  {
   "cell_type": "code",
   "execution_count": null,
   "id": "d4a19b7e-7540-4ee2-8055-3d71ab0401c9",
   "metadata": {},
   "outputs": [],
   "source": [
    "coef_gaussian = galerkin_method(basis_functions, f, funcionais_Poisson, x_inicial, x_final, gaussian_quad)\n",
    "sol_aproximada = linear_combination_function(coef_gaussian, basis_functions)\n",
    "print(f\"Coordenadas da base: {coef_gaussian}\")\n",
    "\n",
    "X = np.linspace(0,1,100)\n",
    "plot_sol(X, sol_aproximada, sol_analitica)"
   ]
  },
  {
   "cell_type": "markdown",
   "id": "8c1fed5b-648b-47d6-9bfe-25ca4a42e5f0",
   "metadata": {
    "jp-MarkdownHeadingCollapsed": true
   },
   "source": [
    "### Exercício 1: \n",
    "\n",
    "Problema $V$: Encontrar $u \\in \\mathbb{V}$ tal que\n",
    "\n",
    "\\begin{equation}\n",
    "\\int_0^1[u'v'+uv]\\text{dx} = \\int_0^1xv\\text{dx}, \\quad \\forall v \\in \\mathbb{V}\n",
    "\\end{equation}\n",
    "\n",
    "onde $\\mathbb{V}$ é o espaço das funções diferenciáveis que satisfazem $v(0) = v(1) = 0$."
   ]
  },
  {
   "cell_type": "code",
   "execution_count": 7,
   "id": "3effe00e-2584-49f5-8978-2be7faf0d02e",
   "metadata": {},
   "outputs": [],
   "source": [
    "def funcional_incognita_1(func1, func2, integration_method, x_inicial, x_final, args):\n",
    "    integrand = lambda x: derivative(func1, x, dx=1e-4) * derivative(func2, x, dx=1e-4) + func1(x)*func2(x)\n",
    "    return integration_method(integrand, x_inicial, x_final, args)\n",
    "\n",
    "def funcional_fonte_1(func, fonte, integration_method, x_inicial, x_final, args):\n",
    "    integrand = lambda x: func(x) * fonte(x)\n",
    "    return integration_method(integrand, x_inicial, x_final, args)\n",
    "\n",
    "funcionais_1 = {'funcional_incognita': funcional_incognita_1, 'funcional_fonte': funcional_fonte_1}"
   ]
  },
  {
   "cell_type": "code",
   "execution_count": 8,
   "id": "2148fc51-a031-43f6-8d6f-6b1d8e2bc2d9",
   "metadata": {},
   "outputs": [],
   "source": [
    "coef_1_3 = coef_gaussian"
   ]
  },
  {
   "cell_type": "code",
   "execution_count": 9,
   "id": "261bcf98-374e-482c-affd-5f4eb3292e71",
   "metadata": {},
   "outputs": [
    {
     "name": "stdout",
     "output_type": "stream",
     "text": [
      "Coordenadas da base: [-0.14964831 -0.14405769 -0.01873301]\n"
     ]
    },
    {
     "data": {
      "image/png": "[encoded data removed]",
      "text/plain": [
       "<Figure size 1500x600 with 1 Axes>"
      ]
     },
     "metadata": {},
     "output_type": "display_data"
    },
    {
     "name": "stdout",
     "output_type": "stream",
     "text": [
      "Erro relativo: 0.0003692196757500652\n"
     ]
    }
   ],
   "source": [
    "x_inicial = 0\n",
    "x_final = 1\n",
    "\n",
    "basis_func_1 = lambda x: x*(x-1)\n",
    "basis_func_2 = lambda x: (x**2)*(x-1)\n",
    "basis_func_3 = lambda x: (x**3)*(x-1)\n",
    "\n",
    "basis_functions = [basis_func_1, basis_func_2, basis_func_3]\n",
    "\n",
    "f = lambda x: x\n",
    "\n",
    "sol_analitica  = lambda x: x - np.sinh(x)/np.sinh(1)\n",
    "\n",
    "coef_gaussian = galerkin_method(basis_functions, f, funcionais_1, x_inicial, x_final, gaussian_quad)\n",
    "sol_aproximada = linear_combination_function(coef_gaussian, basis_functions)\n",
    "print(f\"Coordenadas da base: {coef_gaussian}\")\n",
    "\n",
    "X = np.linspace(0,1,100)\n",
    "plot_sol(X, sol_aproximada, sol_analitica)"
   ]
  },
  {
   "cell_type": "markdown",
   "id": "e4ca330c-6abc-47ea-a9f8-72e2202babbe",
   "metadata": {},
   "source": [
    "### Exercício 2:\n",
    "\n",
    "\\begin{equation}\n",
    "\\phi_i(x) = \\sin{(i\\pi x)}\n",
    "\\end{equation}"
   ]
  },
  {
   "cell_type": "code",
   "execution_count": 19,
   "id": "41cc6095-662a-4148-97e7-157aea90f63c",
   "metadata": {},
   "outputs": [],
   "source": [
    "def galerkin_method_2(basis_functions, fonte, funcional_fonte, x_inicial, x_final, integration_method, args=None):\n",
    "    #args = num_partitions caso integration_method == trapezoidal_rule]\n",
    "    n = len(basis_functions)\n",
    "    A = np.zeros((n, n))\n",
    "    l = np.zeros(n) \n",
    "    \n",
    "    for i in range(n):\n",
    "        for j in range(n):\n",
    "            if i == j:\n",
    "                A[i,j] = (i+1)**2 * np.pi**2\n",
    "            else:\n",
    "                A[i,j] = 0\n",
    "            \n",
    "        l[i] = funcional_fonte(basis_functions[i], fonte, integration_method, x_inicial, x_final, args)\n",
    "        \n",
    "    coef = np.linalg.solve(A, l)\n",
    "    return coef"
   ]
  },
  {
   "cell_type": "code",
   "execution_count": null,
   "id": "ac3c9c9b-5107-4cb6-b3f2-befabbe81aa1",
   "metadata": {},
   "outputs": [],
   "source": [
    "x_inicial = 0\n",
    "x_final = 1\n",
    "\n",
    "basis_func_1 = lambda x: np.sin(1* np.pi * x)\n",
    "basis_func_2 = lambda x: np.sin(2* np.pi * x)\n",
    "basis_func_3 = lambda x: np.sin(3* np.pi * x)\n",
    "basis_func_4 = lambda x: np.sin(4* np.pi * x)\n",
    "\n",
    "basis_functions = [basis_func_1, basis_func_2, basis_func_3]\n",
    "\n",
    "f = lambda x: x\n",
    "\n",
    "sol_analitica = lambda x: x - np.sinh(x)/np.sinh(1)\n",
    "\n",
    "coef_gaussian = galerkin_method_2(basis_functions, f, funcional_fonte_1, x_inicial, x_final, gaussian_quad)\n",
    "sol_aproximada = linear_combination_function(coef_gaussian, basis_functions)\n",
    "print(f\"Coordenadas da base: {coef_gaussian}\")\n",
    "\n",
    "X = np.linspace(0,1,100)\n",
    "plot_sol(X, sol_aproximada, sol_analitica)"
   ]
  },
  {
   "cell_type": "markdown",
   "id": "3afd1b76-28ac-4e7b-8fed-155ff513b8e9",
   "metadata": {},
   "source": [
    "### Exercício 3:"
   ]
  },
  {
   "cell_type": "code",
   "execution_count": null,
   "id": "ec587b64-adb5-4326-8161-29ed88b9ab2d",
   "metadata": {},
   "outputs": [],
   "source": [
    "# Para exercício 1:\n",
    "basis_func_1 = lambda x: x*(x-1)\n",
    "basis_func_2 = lambda x: (x**2)*(x-1)\n",
    "basis_func_3 = lambda x: (x**3)*(x-1)\n",
    "\n",
    "basis_functions = [basis_func_1, basis_func_2, basis_func_3]\n",
    "\n",
    "sol_aprox_1_1 = linear_combination_function(coef_1_1, [basis_func_1])\n",
    "sol_aprox_1_2 = linear_combination_function(coef_1_2, [basis_func_1, basis_func_2])\n",
    "sol_aprox_1_3 = linear_combination_function(coef_1_3, [basis_func_1, basis_func_2, basis_func_3])\n",
    "\n",
    "plt.figure(figsize=(15,6))\n",
    "\n",
    "plt.plot(X, np.gradient(sol_aprox_1_1(X)), label='n=1')\n",
    "plt.plot(X, np.gradient(sol_aprox_1_2(X)), label='n=2')\n",
    "plt.plot(X, np.gradient(sol_aprox_1_3(X)), label='n=3')\n",
    "plt.plot(X, np.gradient(sol_analitica(X)), label='solução analítica', linestyle='--')\n",
    "plt.legend()\n",
    "plt.grid(True)\n",
    "\n",
    "plt.savefig(\"C:\\\\Users\\\\Usuario\\\\OneDrive\\\\Documents\\\\UNICAMP\\\\MS712\\\\imagens\\\\last_image.png\")\n",
    "plt.show()"
   ]
  },
  {
   "cell_type": "code",
   "execution_count": null,
   "id": "a8bb89d1-6f1e-4f53-a3fd-3dfb1bf734b9",
   "metadata": {},
   "outputs": [],
   "source": [
    "# Para exercício 2:\n",
    "basis_func_1 = lambda x: np.sin(1* np.pi * x)\n",
    "basis_func_2 = lambda x: np.sin(2* np.pi * x)\n",
    "basis_func_3 = lambda x: np.sin(3* np.pi * x)\n",
    "\n",
    "basis_functions = [basis_func_1, basis_func_2, basis_func_3]\n",
    "\n",
    "sol_aprox_2_1 = linear_combination_function(coef_2_1, [basis_func_1])\n",
    "sol_aprox_2_2 = linear_combination_function(coef_2_2, [basis_func_1, basis_func_2])\n",
    "sol_aprox_2_3 = linear_combination_function(coef_2_3, [basis_func_1, basis_func_2, basis_func_3])\n",
    "\n",
    "plt.figure(figsize=(15,6))\n",
    "\n",
    "plt.plot(X, np.gradient(sol_aprox_2_1(X)), label='n=1')\n",
    "plt.plot(X, np.gradient(sol_aprox_2_2(X)), label='n=2')\n",
    "plt.plot(X, np.gradient(sol_aprox_2_3(X)), label='n=3')\n",
    "plt.plot(X, np.gradient(sol_analitica(X)), label='solução analítica', linestyle='--')\n",
    "plt.legend()\n",
    "plt.grid(True)\n",
    "\n",
    "plt.savefig(\"C:\\\\Users\\\\Usuario\\\\OneDrive\\\\Documents\\\\UNICAMP\\\\MS712\\\\imagens\\\\last_image.png\")\n",
    "plt.show()"
   ]
  },
  {
   "cell_type": "markdown",
   "id": "fd7f49d4-29aa-4254-b938-2a845e190a15",
   "metadata": {},
   "source": [
    "### Exercício 4:\n",
    "\n",
    "Pulei por enquanto (muito estranho)"
   ]
  },
  {
   "cell_type": "markdown",
   "id": "fdc202c6-b0f2-42c3-b0ce-d1a42f5b0712",
   "metadata": {},
   "source": [
    "### Exercício 5:\n",
    "\n",
    "\\begin{equation}\n",
    "\\phi_i(x) = \\sin{(i\\pi x)}\n",
    "\\end{equation}"
   ]
  },
  {
   "cell_type": "markdown",
   "id": "6a227a45-a071-44f9-b20e-4cdfce2001be",
   "metadata": {},
   "source": [
    "item b): $n= 2,4,8$"
   ]
  },
  {
   "cell_type": "code",
   "execution_count": null,
   "id": "88ddc3f3-7979-48f1-a3e8-a174f72e1826",
   "metadata": {},
   "outputs": [],
   "source": [
    "x_inicial = 0\n",
    "x_final = 1\n",
    "sol_analitica = lambda x: x - np.sinh(x)/np.sinh(1)\n",
    "\n",
    "basis_func_1 = lambda x: np.sin(1* np.pi * x)\n",
    "basis_func_2 = lambda x: np.sin(2* np.pi * x)\n",
    "basis_func_3 = lambda x: np.sin(3* np.pi * x)\n",
    "basis_func_4 = lambda x: np.sin(4* np.pi * x)\n",
    "basis_func_5 = lambda x: np.sin(5* np.pi * x)\n",
    "basis_func_6 = lambda x: np.sin(6* np.pi * x)\n",
    "basis_func_7 = lambda x: np.sin(7* np.pi * x)\n",
    "basis_func_8 = lambda x: np.sin(8* np.pi * x)\n",
    "\n",
    "basis_functions = [basis_func_1, basis_func_2, basis_func_3, basis_func_4, basis_func_5, basis_func_6, basis_func_7, basis_func_8]\n",
    "\n",
    "coef_8 = list()\n",
    "for i in range(1, len(basis_functions) + 1):\n",
    "    coef_8.append(((-1)**(i+1))/(i**3 * np.pi**3))\n",
    "\n",
    "sol_aproximada_8 = linear_combination_function(coef_8, basis_functions)\n",
    "print(f\"Coordenadas da base: {coef_8}\")\n",
    "\n",
    "X = np.linspace(0,1,100)"
   ]
  },
  {
   "cell_type": "code",
   "execution_count": null,
   "id": "9a466958-785c-4376-b8da-5cf3de53212f",
   "metadata": {},
   "outputs": [],
   "source": [
    "plt.figure(figsize=(15,6))\n",
    "\n",
    "plt.plot(X, sol_aproximada_2(X), label='n=2')\n",
    "plt.plot(X, sol_aproximada_4(X), label='n=4')\n",
    "plt.plot(X, sol_aproximada_8(X), label='n=8')\n",
    "plt.plot(X, sol_analitica(X), label='solução analítica', linestyle='--')\n",
    "plt.legend()\n",
    "plt.grid(True)\n",
    "plt.title(\"Comparação das soluções aproximadas com a solução analítica\")\n",
    "plt.ylabel(\"y\")\n",
    "plt.xlabel(\"x\")\n",
    "\n",
    "plt.savefig(\"C:\\\\Users\\\\Usuario\\\\OneDrive\\\\Documents\\\\UNICAMP\\\\MS712\\\\imagens\\\\last_image.png\")\n",
    "plt.show()"
   ]
  },
  {
   "cell_type": "code",
   "execution_count": null,
   "id": "1651fe02-71fe-4df0-a467-fdd7fbb19de6",
   "metadata": {},
   "outputs": [],
   "source": [
    "plt.figure(figsize=(15,6))\n",
    "\n",
    "plt.plot(X, np.gradient(sol_aproximada_2(X)), label='n=2')\n",
    "plt.plot(X, np.gradient(sol_aproximada_4(X)), label='n=4')\n",
    "plt.plot(X, np.gradient(sol_aproximada_8(X)), label='n=8')\n",
    "plt.plot(X, np.gradient(sol_analitica(X)), label='derivada da solução analítica', linestyle='--')\n",
    "plt.legend()\n",
    "plt.grid(True)\n",
    "plt.title(\"Comparação das derivadas das soluções aproximadas com a da solução analítica\")\n",
    "plt.ylabel(\"y\")\n",
    "plt.xlabel(\"x\")\n",
    "\n",
    "\n",
    "plt.savefig(\"C:\\\\Users\\\\Usuario\\\\OneDrive\\\\Documents\\\\UNICAMP\\\\MS712\\\\imagens\\\\last_image.png\")\n",
    "plt.show()"
   ]
  }
 ],
 "metadata": {
  "kernelspec": {
   "display_name": "Python 3 (ipykernel)",
   "language": "python",
   "name": "python3"
  },
  "language_info": {
   "codemirror_mode": {
    "name": "ipython",
    "version": 3
   },
   "file_extension": ".py",
   "mimetype": "text/x-python",
   "name": "python",
   "nbconvert_exporter": "python",
   "pygments_lexer": "ipython3",
   "version": "3.12.3"
  }
 },
 "nbformat": 4,
 "nbformat_minor": 5
}
