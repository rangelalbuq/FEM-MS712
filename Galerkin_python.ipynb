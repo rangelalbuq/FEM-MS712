{
 "cells": [
  {
   "cell_type": "code",
   "execution_count": 4,
   "id": "cb24599e-613d-4ab8-b333-6430febcc84d",
   "metadata": {},
   "outputs": [],
   "source": [
    "import numpy as np"
   ]
  },
  {
   "cell_type": "code",
   "execution_count": 5,
   "id": "b1f73b62-72c0-4ca0-9338-a33e54e5c807",
   "metadata": {},
   "outputs": [],
   "source": [
    "def trapezoidal_rule(func, x_inicial, x_final, num_points):\n",
    "    x = np.linspace(x_inicial, x_final, num_points)\n",
    "    y = func(x)\n",
    "    h = (x_final - x_inicial) / (num_points - 1)\n",
    "    integral = (h / 2) * (y[0] + 2 * np.sum(y[1:-1]) + y[-1])\n",
    "    return integral"
   ]
  },
  {
   "cell_type": "code",
   "execution_count": 6,
   "id": "ba338681-5cff-4dba-b10a-e7ec76f9e4d7",
   "metadata": {},
   "outputs": [],
   "source": [
    "def galerkin_method(basis_functions, f, num_partitions):\n",
    "    n = len(basis_functions)\n",
    "    A = np.zeros((n, n))\n",
    "    l = np.zeros(n)\n",
    "    h = 1.0 / num_partitions\n",
    "\n",
    "    def derivative(func):\n",
    "        return lambda x: np.gradient(func(x), x)\n",
    "\n",
    "    for i in range(n):\n",
    "        for j in range(n):\n",
    "            integrand = lambda x: derivative(basis_functions[i])(x) * derivative(basis_functions[j])(x)\n",
    "            A[i, j] = trapezoidal_rule(integrand, 0, 1, num_partitions)\n",
    "        \n",
    "        integrand_l = lambda x: basis_functions[i](x) * f(x)\n",
    "        l[i] = trapezoidal_rule(integrand_l, 0, 1, num_partitions)\n",
    "\n",
    "    coef = np.linalg.solve(A, l)\n",
    "    return coef"
   ]
  }
 ],
 "metadata": {
  "kernelspec": {
   "display_name": "Python 3 (ipykernel)",
   "language": "python",
   "name": "python3"
  },
  "language_info": {
   "codemirror_mode": {
    "name": "ipython",
    "version": 3
   },
   "file_extension": ".py",
   "mimetype": "text/x-python",
   "name": "python",
   "nbconvert_exporter": "python",
   "pygments_lexer": "ipython3",
   "version": "3.12.3"
  }
 },
 "nbformat": 4,
 "nbformat_minor": 5
}
