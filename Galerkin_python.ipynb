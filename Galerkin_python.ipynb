{
 "cells": [
  {
   "attachments": {},
   "cell_type": "markdown",
   "id": "9e30adf9-0427-4947-985e-b41280e2ca5b",
   "metadata": {},
   "source": [
    "Fazer um (ou mais) Benchmarks\n",
    "\n",
    "Preciso ajustar galerkin_method para o primeiro problema variacional da Lista.\n",
    "\n",
    "Sugestão: criar uma outra função para o funcional 'a' e o 'f' e utilizar dentro de galerkin_method para mais flexibilidade."
   ]
  },
  {
   "cell_type": "code",
   "execution_count": 26,
   "id": "cb24599e-613d-4ab8-b333-6430febcc84d",
   "metadata": {},
   "outputs": [],
   "source": [
    "import numpy as np\n",
    "from scipy import integrate\n",
    "from scipy.misc import derivative"
   ]
  },
  {
   "cell_type": "code",
   "execution_count": 27,
   "id": "b1f73b62-72c0-4ca0-9338-a33e54e5c807",
   "metadata": {},
   "outputs": [],
   "source": [
    "def trapezoidal_rule(func, x_inicial, x_final, num_points):\n",
    "    x = np.linspace(x_inicial, x_final, num_points)\n",
    "    y = func(x)\n",
    "    h = (x_final - x_inicial) / (num_points - 1)\n",
    "    integral = (h / 2) * (y[0] + 2 * np.sum(y[1:-1]) + y[-1])\n",
    "    return integral"
   ]
  },
  {
   "cell_type": "code",
   "execution_count": 28,
   "id": "aed2d156-860a-49df-aaf4-247bc831a293",
   "metadata": {},
   "outputs": [],
   "source": [
    "def gaussian_quad(func, x_inicial, x_final, args=None):\n",
    "    def_integral = integrate.quad(func, x_inicial, x_final)[0]\n",
    "    return def_integral"
   ]
  },
  {
   "cell_type": "code",
   "execution_count": 29,
   "id": "ba338681-5cff-4dba-b10a-e7ec76f9e4d7",
   "metadata": {},
   "outputs": [],
   "source": [
    "def galerkin_method(basis_functions, f, x_inicial, x_final, integration_method, args=None):\n",
    "    n = len(basis_functions)\n",
    "    A = np.zeros((n, n))\n",
    "    l = np.zeros(n)\n",
    "\n",
    "    for i in range(n):\n",
    "        for j in range(n):\n",
    "            integrand = lambda x: derivative(basis_functions[i], x, dx=1e-4) * derivative(basis_functions[j], x, dx=1e-4)\n",
    "            A[i, j] = integration_method(integrand, x_inicial, x_final, args)\n",
    "        \n",
    "        integrand_l = lambda x: basis_functions[i](x) * f(x)\n",
    "        l[i] = integration_method(integrand_l, x_inicial, x_final, args)\n",
    "\n",
    "    coef = np.linalg.solve(A, l)\n",
    "    return coef"
   ]
  },
  {
   "cell_type": "code",
   "execution_count": 30,
   "id": "93762993-1c97-4f9c-b414-b217e0ec26e6",
   "metadata": {},
   "outputs": [],
   "source": [
    "basis_func_1 = lambda x: x\n",
    "\n",
    "basis_func_2 = lambda x: x**2\n",
    "\n",
    "f = lambda x: np.sin(x)"
   ]
  },
  {
   "cell_type": "code",
   "execution_count": 31,
   "id": "428595fa-706a-4b4c-94fc-6d0f24696707",
   "metadata": {},
   "outputs": [
    {
     "name": "stdout",
     "output_type": "stream",
     "text": [
      "Coefficients with Gaussian quadrature: [ 2.2158542  -0.38701841]\n",
      "Coefficients with Trapezoidal rule: [ 2.1763078  -0.37766908]\n"
     ]
    },
    {
     "name": "stderr",
     "output_type": "stream",
     "text": [
      "/tmp/ipykernel_5478/2606824010.py:8: DeprecationWarning: scipy.misc.derivative is deprecated in SciPy v1.10.0; and will be completely removed in SciPy v1.12.0. You may consider using findiff: https://github.com/maroba/findiff or numdifftools: https://github.com/pbrod/numdifftools\n",
      "  integrand = lambda x: derivative(basis_functions[i], x, dx=1e-4) * derivative(basis_functions[j], x, dx=1e-4)\n"
     ]
    }
   ],
   "source": [
    "basis_functions = [basis_func_1, basis_func_2]\n",
    "x_inicial = 0\n",
    "x_final = np.pi\n",
    "num_partitions = 10\n",
    "\n",
    "# Using Gaussian quadrature\n",
    "coef_gaussian = galerkin_method(basis_functions, f, x_inicial, x_final, gaussian_quad)\n",
    "print(\"Coefficients with Gaussian quadrature:\", coef_gaussian)\n",
    "\n",
    "# Using Trapezoidal rule\n",
    "coef_trapezoidal = galerkin_method(basis_functions, f, x_inicial, x_final, trapezoidal_rule, num_partitions)\n",
    "print(\"Coefficients with Trapezoidal rule:\", coef_trapezoidal)"
   ]
  },
  {
   "cell_type": "code",
   "execution_count": 33,
   "id": "87d5dbe0-80a4-4d0b-a54f-00b529daec20",
   "metadata": {},
   "outputs": [],
   "source": [
    "derivada_de_x = lambda x: derivative(basis_func_2,1,dx=1)"
   ]
  },
  {
   "cell_type": "code",
   "execution_count": 34,
   "id": "913fa2a3-f066-4efe-b6b4-cc95ce806314",
   "metadata": {},
   "outputs": [
    {
     "name": "stderr",
     "output_type": "stream",
     "text": [
      "/tmp/ipykernel_9153/842386134.py:1: DeprecationWarning: scipy.misc.derivative is deprecated in SciPy v1.10.0; and will be completely removed in SciPy v1.12.0. You may consider using findiff: https://github.com/maroba/findiff or numdifftools: https://github.com/pbrod/numdifftools\n",
      "  derivada_de_x = lambda x: derivative(basis_func_2,1,dx=1)\n"
     ]
    },
    {
     "data": {
      "text/plain": [
       "2.0"
      ]
     },
     "execution_count": 34,
     "metadata": {},
     "output_type": "execute_result"
    }
   ],
   "source": [
    "derivada_de_x(1)"
   ]
  }
 ],
 "metadata": {
  "kernelspec": {
   "display_name": "Python 3 (ipykernel)",
   "language": "python",
   "name": "python3"
  },
  "language_info": {
   "codemirror_mode": {
    "name": "ipython",
    "version": 3
   },
   "file_extension": ".py",
   "mimetype": "text/x-python",
   "name": "python",
   "nbconvert_exporter": "python",
   "pygments_lexer": "ipython3",
   "version": "3.12.3"
  }
 },
 "nbformat": 4,
 "nbformat_minor": 5
}
