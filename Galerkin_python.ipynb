{
 "cells": [
  {
   "cell_type": "markdown",
   "id": "cba5e065-8b5b-4cff-8ce5-5f0343d1930d",
   "metadata": {},
   "source": [
    "## IDEIA:\n",
    "\n",
    "Deixar o código \"array-wise\". Isto implicaria em vária mudanças para o código:\n",
    "\n",
    "- Usar DiffToll para derivação de arrays;\n",
    "- Trocar integrate.quad() para uma função que lide com arrays;\n",
    "- Possívelmente mudar outras partes do código como em galerkin_method().\n",
    "\n",
    "Como isso vai dar um pouco de trabalho e exige tempo, só deixo aqui a ideia anotada em uma branch, \"array-wise\". Caso, no futuro, eu perceber que esse tipo abordagem para o código é melhor e mais flexível, trazendo menos \"dor de cabeça\", trabalharei nesta ideia."
   ]
  },
  {
   "cell_type": "markdown",
   "id": "a482aab4-1a20-4ca7-9ebb-6ef3c4da91b8",
   "metadata": {},
   "source": [
    "Fazer um (ou mais) Benchmarks"
   ]
  },
  {
   "cell_type": "markdown",
   "id": "d321dfa3-1803-46d6-acd3-473e605f1b47",
   "metadata": {},
   "source": [
    "Preciso ajustar galerkin_method para o primeiro problema variacional da Lista."
   ]
  },
  {
   "cell_type": "markdown",
   "id": "ee1c2a6d-5f2d-44d0-bf06-fc8933782340",
   "metadata": {},
   "source": [
    "Sugestão: criar uma outra função para o funcional 'a' e o 'f' e utilizar dentro de galerkin_method."
   ]
  },
  {
   "cell_type": "code",
   "execution_count": 3,
   "id": "cb24599e-613d-4ab8-b333-6430febcc84d",
   "metadata": {},
   "outputs": [],
   "source": [
    "import numpy as np\n",
    "from scipy import integrate\n",
    "from scipy.misc import derivative"
   ]
  },
  {
   "cell_type": "code",
   "execution_count": 4,
   "id": "b1f73b62-72c0-4ca0-9338-a33e54e5c807",
   "metadata": {},
   "outputs": [],
   "source": [
    "def trapezoidal_rule(func, x_inicial, x_final, num_points):\n",
    "    x = np.linspace(x_inicial, x_final, num_points)\n",
    "    y = func(x)\n",
    "    h = (x_final - x_inicial) / (num_points - 1)\n",
    "    integral = (h / 2) * (y[0] + 2 * np.sum(y[1:-1]) + y[-1])\n",
    "    return integral"
   ]
  },
  {
   "cell_type": "code",
   "execution_count": 5,
   "id": "aed2d156-860a-49df-aaf4-247bc831a293",
   "metadata": {},
   "outputs": [],
   "source": [
    "def gaussian_quad(func, x_inicial, x_final, args=None):\n",
    "    def_integral = integrate.quad(func, x_inicial, x_final)[0]\n",
    "    return def_integral"
   ]
  },
  {
   "cell_type": "code",
   "execution_count": 18,
   "id": "ba338681-5cff-4dba-b10a-e7ec76f9e4d7",
   "metadata": {},
   "outputs": [],
   "source": [
    "def galerkin_method(basis_functions, f, x_inicial, x_final, integration_method, args=None):\n",
    "    n = len(basis_functions)\n",
    "    A = np.zeros((n, n))\n",
    "    l = np.zeros(n)\n",
    "    h = 1.0 / num_partitions\n",
    "\n",
    "    for i in range(n):\n",
    "        for j in range(n):\n",
    "            integrand = lambda x: derivative(basis_functions[i], x, dx=1e-4) * derivative(basis_functions[j], x, dx=1e-4)\n",
    "            A[i, j] = integration_method(integrand, x_inicial, x_final, args)\n",
    "        \n",
    "        integrand_l = lambda x: basis_functions[i](x) * f(x)\n",
    "        l[i] = integration_method(integrand_l, x_inicial, x_final, args)\n",
    "\n",
    "    coef = np.linalg.solve(A, l)\n",
    "    return coef"
   ]
  },
  {
   "cell_type": "code",
   "execution_count": 7,
   "id": "1d9170c8-8031-4299-8fac-5a1da569ba93",
   "metadata": {},
   "outputs": [
    {
     "name": "stdout",
     "output_type": "stream",
     "text": [
      "Coefficients with Gaussian quadrature: [ 2.2158542  -0.38701841]\n",
      "Coefficients with Trapezoidal rule: [ 2.1763078  -0.37766908]\n"
     ]
    },
    {
     "name": "stderr",
     "output_type": "stream",
     "text": [
      "/tmp/ipykernel_9153/2105876560.py:9: DeprecationWarning: scipy.misc.derivative is deprecated in SciPy v1.10.0; and will be completely removed in SciPy v1.12.0. You may consider using findiff: https://github.com/maroba/findiff or numdifftools: https://github.com/pbrod/numdifftools\n",
      "  integrand = lambda x: derivative(basis_functions[i], x, dx=1e-6) * derivative(basis_functions[j], x, dx=1e-6)\n"
     ]
    }
   ],
   "source": [
    "def basis_func_1(x):\n",
    "    return x\n",
    "\n",
    "def basis_func_2(x):\n",
    "    return x**2\n",
    "\n",
    "def f(x):\n",
    "    return np.sin(x)\n",
    "\n",
    "basis_functions = [basis_func_1, basis_func_2]\n",
    "x_inicial = 0\n",
    "x_final = np.pi\n",
    "num_partitions = 10\n",
    "\n",
    "# Using Gaussian quadrature\n",
    "coef_gaussian = galerkin_method(basis_functions, f, x_inicial, x_final, gaussian_quad)\n",
    "print(\"Coefficients with Gaussian quadrature:\", coef_gaussian)\n",
    "\n",
    "# Using Trapezoidal rule\n",
    "coef_trapezoidal = galerkin_method(basis_functions, f, x_inicial, x_final, trapezoidal_rule, num_partitions)\n",
    "print(\"Coefficients with Trapezoidal rule:\", coef_trapezoidal)"
   ]
  },
  {
   "cell_type": "code",
   "execution_count": 33,
   "id": "87d5dbe0-80a4-4d0b-a54f-00b529daec20",
   "metadata": {},
   "outputs": [],
   "source": [
    "derivada_de_x = lambda x: derivative(basis_func_2,1,dx=1)"
   ]
  },
  {
   "cell_type": "code",
   "execution_count": 34,
   "id": "913fa2a3-f066-4efe-b6b4-cc95ce806314",
   "metadata": {},
   "outputs": [
    {
     "name": "stderr",
     "output_type": "stream",
     "text": [
      "/tmp/ipykernel_9153/842386134.py:1: DeprecationWarning: scipy.misc.derivative is deprecated in SciPy v1.10.0; and will be completely removed in SciPy v1.12.0. You may consider using findiff: https://github.com/maroba/findiff or numdifftools: https://github.com/pbrod/numdifftools\n",
      "  derivada_de_x = lambda x: derivative(basis_func_2,1,dx=1)\n"
     ]
    },
    {
     "data": {
      "text/plain": [
       "2.0"
      ]
     },
     "execution_count": 34,
     "metadata": {},
     "output_type": "execute_result"
    }
   ],
   "source": [
    "derivada_de_x(1)"
   ]
  }
 ],
 "metadata": {
  "kernelspec": {
   "display_name": "Python 3 (ipykernel)",
   "language": "python",
   "name": "python3"
  },
  "language_info": {
   "codemirror_mode": {
    "name": "ipython",
    "version": 3
   },
   "file_extension": ".py",
   "mimetype": "text/x-python",
   "name": "python",
   "nbconvert_exporter": "python",
   "pygments_lexer": "ipython3",
   "version": "3.12.3"
  }
 },
 "nbformat": 4,
 "nbformat_minor": 5
}
