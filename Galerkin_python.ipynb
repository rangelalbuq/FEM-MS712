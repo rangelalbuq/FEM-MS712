{
 "cells": [
  {
   "attachments": {},
   "cell_type": "markdown",
   "id": "9e30adf9-0427-4947-985e-b41280e2ca5b",
   "metadata": {},
   "source": [
    "Fazer um (ou mais) Benchmarks;\n",
    "\n",
    "Preciso criar os funcionais do primeiro problema da Lista."
   ]
  },
  {
   "cell_type": "code",
   "execution_count": 23,
   "id": "cb24599e-613d-4ab8-b333-6430febcc84d",
   "metadata": {},
   "outputs": [],
   "source": [
    "import numpy as np\n",
    "from scipy import integrate\n",
    "from scipy.misc import derivative"
   ]
  },
  {
   "cell_type": "code",
   "execution_count": 24,
   "id": "b1f73b62-72c0-4ca0-9338-a33e54e5c807",
   "metadata": {},
   "outputs": [],
   "source": [
    "def trapezoidal_rule(func, x_inicial, x_final, num_points):\n",
    "    x = np.linspace(x_inicial, x_final, num_points)\n",
    "    y = func(x)\n",
    "    h = (x_final - x_inicial) / (num_points - 1)\n",
    "    integral = (h / 2) * (y[0] + 2 * np.sum(y[1:-1]) + y[-1])\n",
    "    return integral"
   ]
  },
  {
   "cell_type": "code",
   "execution_count": 25,
   "id": "aed2d156-860a-49df-aaf4-247bc831a293",
   "metadata": {},
   "outputs": [],
   "source": [
    "def gaussian_quad(func, x_inicial, x_final, args=None):\n",
    "    def_integral = integrate.quad(func, x_inicial, x_final)[0]\n",
    "    return def_integral"
   ]
  },
  {
   "cell_type": "code",
   "execution_count": 26,
   "id": "ba338681-5cff-4dba-b10a-e7ec76f9e4d7",
   "metadata": {},
   "outputs": [],
   "source": [
    "def galerkin_method(basis_functions, fonte, funcional_incognita, funcional_fonte, x_inicial, x_final, integration_method, args=None):\n",
    "    n = len(basis_functions)\n",
    "    A = np.zeros((n, n))\n",
    "    l = np.zeros(n)\n",
    "\n",
    "    for i in range(n):\n",
    "        for j in range(n):\n",
    "            A[i, j] = funcional_incognita(basis_functions[i], basis_functions[j], integration_method, x_inicial, x_final, args)\n",
    "            \n",
    "        l[i] = funcional_fonte(basis_functions[i], fonte, integration_method, x_inicial, x_final, args)\n",
    "\n",
    "    coef = np.linalg.solve(A, l)\n",
    "    return coef"
   ]
  },
  {
   "cell_type": "markdown",
   "id": "fd424ffd-44a3-4a7b-88d4-b665c49555fc",
   "metadata": {},
   "source": [
    "#### Funcionais do Problema de Poisson: $$-u^{\"}(x) = f(x), \\quad \\text{com} \\quad u(x_{inicial})=u(x_{final})=0.$$"
   ]
  },
  {
   "cell_type": "code",
   "execution_count": 27,
   "id": "c7602870-2860-404f-9022-2c5565a8aa23",
   "metadata": {},
   "outputs": [],
   "source": [
    "def funcional_incognita_Poisson(func1, func2, integration_method, x_inicial, x_final, args):\n",
    "    integrand = lambda x: derivative(func1, x, dx=1e-4) * derivative(func2, x, dx=1e-4)\n",
    "    return integration_method(integrand, x_inicial, x_final, args)\n",
    "\n",
    "def funcional_fonte_Poisson(func, fonte, integration_method, x_inicial, x_final, args):\n",
    "    integrand = lambda x: func(x) * fonte(x)\n",
    "    return integration_method(integrand, x_inicial, x_final, args)"
   ]
  },
  {
   "cell_type": "code",
   "execution_count": 28,
   "id": "93762993-1c97-4f9c-b414-b217e0ec26e6",
   "metadata": {},
   "outputs": [],
   "source": [
    "basis_func_1 = lambda x: x\n",
    "\n",
    "basis_func_2 = lambda x: x**2\n",
    "\n",
    "f = lambda x: np.sin(x)"
   ]
  },
  {
   "cell_type": "code",
   "execution_count": 29,
   "id": "428595fa-706a-4b4c-94fc-6d0f24696707",
   "metadata": {},
   "outputs": [
    {
     "name": "stdout",
     "output_type": "stream",
     "text": [
      "Coefficients with Gaussian quadrature: [ 2.2158542  -0.38701841]\n",
      "Coefficients with Trapezoidal rule: [ 2.2158542  -0.38701841]\n"
     ]
    },
    {
     "name": "stderr",
     "output_type": "stream",
     "text": [
      "C:\\Users\\Usuario\\AppData\\Local\\Temp\\ipykernel_5604\\787635567.py:2: DeprecationWarning: scipy.misc.derivative is deprecated in SciPy v1.10.0; and will be completely removed in SciPy v1.12.0. You may consider using findiff: https://github.com/maroba/findiff or numdifftools: https://github.com/pbrod/numdifftools\n",
      "  integrand = lambda x: derivative(func1, x, dx=1e-4) * derivative(func2, x, dx=1e-4)\n"
     ]
    }
   ],
   "source": [
    "basis_functions = [basis_func_1, basis_func_2]\n",
    "x_inicial = 0\n",
    "x_final = np.pi\n",
    "num_partitions = 10\n",
    "\n",
    "# Using Gaussian quadrature\n",
    "coef_gaussian = galerkin_method(basis_functions, f, funcional_incognita_Poisson, funcional_fonte_Poisson, x_inicial, x_final, gaussian_quad)\n",
    "print(\"Coefficients with Gaussian quadrature:\", coef_gaussian)\n",
    "\n",
    "# Using Trapezoidal rule\n",
    "coef_trapezoidal = galerkin_method(basis_functions, f, funcional_incognita_Poisson, funcional_fonte_Poisson, x_inicial, x_final, gaussian_quad)\n",
    "print(\"Coefficients with Trapezoidal rule:\", coef_trapezoidal)"
   ]
  }
 ],
 "metadata": {
  "kernelspec": {
   "display_name": "Python 3 (ipykernel)",
   "language": "python",
   "name": "python3"
  },
  "language_info": {
   "codemirror_mode": {
    "name": "ipython",
    "version": 3
   },
   "file_extension": ".py",
   "mimetype": "text/x-python",
   "name": "python",
   "nbconvert_exporter": "python",
   "pygments_lexer": "ipython3",
   "version": "3.12.3"
  }
 },
 "nbformat": 4,
 "nbformat_minor": 5
}
