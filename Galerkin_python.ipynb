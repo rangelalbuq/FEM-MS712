{
 "cells": [
  {
   "cell_type": "code",
   "execution_count": null,
   "id": "0153d880-dc6b-42ad-bfca-da4189f5d34e",
   "metadata": {},
   "outputs": [],
   "source": [
    "import numpy as np\n",
    "from scipy import integrate\n",
    "from scipy.misc import derivative\n",
    "import warnings\n",
    "import matplotlib.pyplot as plt\n",
    "\n",
    "warnings.filterwarnings(\"ignore\", category=DeprecationWarning)"
   ]
  },
  {
   "cell_type": "code",
   "execution_count": 30,
   "id": "914161d8-87f9-431d-a5fe-4a62bcb5d7ed",
   "metadata": {},
   "outputs": [],
   "source": [
    "def linear_combination_function(coefficients, basis_functions):\n",
    "    def combined_function(x):\n",
    "        return sum(c * f(x) for c, f in zip(coefficients, basis_functions))\n",
    "    return combined_function\n",
    "\n",
    "def trapezoidal_rule(func, x_inicial, x_final, num_points):\n",
    "    x = np.linspace(x_inicial, x_final, num_points)\n",
    "    y = func(x)\n",
    "    h = (x_final - x_inicial) / (num_points - 1)\n",
    "    integral = (h / 2) * (y[0] + 2 * np.sum(y[1:-1]) + y[-1])\n",
    "    return integral\n",
    "\n",
    "def gaussian_quad(func, x_inicial, x_final, args=None):\n",
    "    def_integral = integrate.quad(func, x_inicial, x_final)[0]\n",
    "    return def_integral\n",
    "\n",
    "def galerkin_method(basis_functions, fonte, funcionais, x_inicial, x_final, integration_method, args=None):\n",
    "    #args = num_partitions caso integration_method == trapezoidal_rule]\n",
    "    n = len(basis_functions)\n",
    "    A = np.zeros((n, n))\n",
    "    l = np.zeros(n) \n",
    "\n",
    "    funcional_incognita = funcionais['funcional_incognita']    \n",
    "    funcional_fonte = funcionais['funcional_fonte']\n",
    "    \n",
    "    for i in range(n):\n",
    "        for j in range(n):\n",
    "            A[i, j] = funcional_incognita(basis_functions[i], basis_functions[j], integration_method, x_inicial, x_final, args)\n",
    "            \n",
    "        l[i] = funcional_fonte(basis_functions[i], fonte, integration_method, x_inicial, x_final, args)\n",
    "\n",
    "    coef = np.linalg.solve(A, l)\n",
    "    return coef\n",
    "\n",
    "def plot_sol(X, sol_aproximada, sol_analitical):\n",
    "    \n",
    "    err = lambda x: sol_analitica(x) - sol_aproximada(x)\n",
    "    \n",
    "    plt.figure(figsize=(15,6))\n",
    "    plt.plot(X, sol_aproximada(X), label=\"solução aproximada\", linestyle='-', color='b')\n",
    "    plt.plot(X, sol_analitica(X), label=\"solução analítica\", linestyle='-', color='r')\n",
    "    plt.plot(X, err(X), label=\"Erro\", linestyle='--')\n",
    "    plt.ylabel(\"y\")\n",
    "    plt.xlabel(\"x\")\n",
    "    plt.legend(loc='best', fontsize=12)\n",
    "    plt.grid(True)\n",
    "    plt.title(\"Comparação entre a solução aproximada e a analítica\")\n",
    "    \n",
    "    plt.savefig(\"C:\\\\Users\\\\Usuario\\\\OneDrive\\\\Documents\\\\UNICAMP\\\\MS712\\\\imagens\\\\last_image.png\")\n",
    "    plt.show()\n",
    "\n",
    "\n",
    "    err_rel = np.sqrt( integrate.simpson(err(X)**2) / integrate.simpson(sol_analitica(X)**2) )\n",
    "    print(f'Erro relativo: {err_rel}')"
   ]
  },
  {
   "cell_type": "markdown",
   "id": "fd424ffd-44a3-4a7b-88d4-b665c49555fc",
   "metadata": {
    "jp-MarkdownHeadingCollapsed": true
   },
   "source": [
    "### Poisson:\n",
    "\n",
    "$$-u^{\"}(x) = f(x), \\quad \\text{com} \\quad u(x_{inicial})=u(x_{final})=0.$$"
   ]
  },
  {
   "cell_type": "code",
   "execution_count": null,
   "id": "a5bbdb28-bc6d-4a87-8afe-f703d0e04eeb",
   "metadata": {},
   "outputs": [],
   "source": [
    "def funcional_incognita_Poisson(func1, func2, integration_method, x_inicial, x_final, args):\n",
    "    integrand = lambda x: derivative(func1, x, dx=1e-4) * derivative(func2, x, dx=1e-4)\n",
    "    return integration_method(integrand, x_inicial, x_final, args)\n",
    "\n",
    "def funcional_fonte_Poisson(func, fonte, integration_method, x_inicial, x_final, args):\n",
    "    integrand = lambda x: func(x) * fonte(x)\n",
    "    return integration_method(integrand, x_inicial, x_final, args)\n",
    "\n",
    "funcionais_Poisson = {'funcional_incognita': funcional_incognita_Poisson, 'funcional_fonte': funcional_fonte_Poisson}"
   ]
  },
  {
   "cell_type": "code",
   "execution_count": null,
   "id": "749e0d00-f0a7-4537-b0ed-d5bcd5805edb",
   "metadata": {},
   "outputs": [],
   "source": [
    "x_inicial = 0\n",
    "x_final = 1\n",
    "\n",
    "basis_func_1 = lambda x: np.sin(np.pi * x) / (np.pi)**2 \n",
    "basis_func_2 = lambda x: x*(x-1)\n",
    "basis_func_3 = lambda x: x*(x-1)**2\n",
    "basis_func_4 = lambda x: (x**2)*(x-1)\n",
    "\n",
    "basis_functions = [basis_func_1, basis_func_2, basis_func_3, basis_func_4]\n",
    "\n",
    "f = lambda x: np.sin(np.pi * x)\n",
    "\n",
    "sol_analitica = lambda x: np.sin(np.pi * x) / (np.pi)**2 \n",
    "\n",
    "coef_gaussian = galerkin_method(basis_functions, f, funcionais_Poisson, x_inicial, x_final, gaussian_quad)\n",
    "sol_aproximada = linear_combination_function(coef_gaussian, basis_functions)\n",
    "print(f\"Coordenadas da base: {coef_gaussian}\")\n",
    "\n",
    "X = np.linspace(0,1,100)\n",
    "plot_sol(X, sol_aproximada, sol_analitica)"
   ]
  },
  {
   "cell_type": "markdown",
   "id": "8c1fed5b-648b-47d6-9bfe-25ca4a42e5f0",
   "metadata": {},
   "source": [
    "### Exercício 1: \n",
    "\n",
    "Problema $V$: Encontrar $u \\in \\mathbb{V}$ tal que\n",
    "\n",
    "\\begin{equation}\n",
    "\\int_0^1[u'v'+uv]\\text{dx} = \\int_0^1xv\\text{dx}, \\quad \\forall v \\in \\mathbb{V}\n",
    "\\end{equation}\n",
    "\n",
    "onde $\\mathbb{V}$ é o espaço das funções diferenciáveis que satisfazem $v(0) = v(1) = 0$."
   ]
  },
  {
   "cell_type": "code",
   "execution_count": null,
   "id": "3effe00e-2584-49f5-8978-2be7faf0d02e",
   "metadata": {},
   "outputs": [],
   "source": [
    "def funcional_incognita_1(func1, func2, integration_method, x_inicial, x_final, args):\n",
    "    integrand = lambda x: derivative(func1, x, dx=1e-4) * derivative(func2, x, dx=1e-4) + func1(x)*func2(x)\n",
    "    return integration_method(integrand, x_inicial, x_final, args)\n",
    "\n",
    "def funcional_fonte_1(func, fonte, integration_method, x_inicial, x_final, args):\n",
    "    integrand = lambda x: func(x) * fonte(x)\n",
    "    return integration_method(integrand, x_inicial, x_final, args)\n",
    "\n",
    "funcionais_1 = {'funcional_incognita': funcional_incognita_1, 'funcional_fonte': funcional_fonte_1}"
   ]
  },
  {
   "cell_type": "code",
   "execution_count": null,
   "id": "70d0bfb5-055f-4875-9523-19e1f71b52e1",
   "metadata": {},
   "outputs": [],
   "source": [
    "x_inicial = 0\n",
    "x_final = 1\n",
    "\n",
    "basis_func_1 = lambda x: x*(x-1)\n",
    "basis_func_2 = lambda x: (x**2)*(x-1)\n",
    "basis_func_3 = lambda x: (x**3)*(x-1)\n",
    "\n",
    "basis_functions = [basis_func_1, basis_func_2, basis_func_3]\n",
    "\n",
    "f = lambda x: x\n",
    "\n",
    "sol_analitica  = lambda x: x - np.sinh(x)/np.sinh(1)\n",
    "\n",
    "coef_gaussian = galerkin_method(basis_functions, f, funcionais_1, x_inicial, x_final, gaussian_quad)\n",
    "sol_aproximada = linear_combination_function(coef_gaussian, basis_functions)\n",
    "print(f\"Coordenadas da base: {coef_gaussian}\")\n",
    "\n",
    "X = np.linspace(0,1,100)\n",
    "plot_sol(X, sol_aproximada, sol_analitica)"
   ]
  },
  {
   "cell_type": "markdown",
   "id": "e4ca330c-6abc-47ea-a9f8-72e2202babbe",
   "metadata": {},
   "source": [
    "### Exercício 2:\n",
    "\n",
    "\\begin{equation}\n",
    "\\phi_i(x) = \\sin{(i\\pi x)}\n",
    "\\end{equation}"
   ]
  },
  {
   "cell_type": "code",
   "execution_count": 21,
   "id": "10a74f68-2d01-4643-a0cd-185f6d8def22",
   "metadata": {},
   "outputs": [],
   "source": [
    "def galerkin_method_2(basis_functions, fonte, funcional_fonte, x_inicial, x_final, integration_method, args=None):\n",
    "    #args = num_partitions caso integration_method == trapezoidal_rule]\n",
    "    n = len(basis_functions)\n",
    "    A = np.zeros((n, n))\n",
    "    l = np.zeros(n) \n",
    "    \n",
    "    for i in range(n):\n",
    "        for j in range(n):\n",
    "            if i == j:\n",
    "                A[i,j] = 1/2 * ((i+1)**2 * np.pi**2 + 1)\n",
    "            else:\n",
    "                A[i,j] = 0\n",
    "            \n",
    "        l[i] = funcional_fonte(basis_functions[i], fonte, integration_method, x_inicial, x_final, args)\n",
    "\n",
    "    print(A)\n",
    "    coef = np.linalg.solve(A, l)\n",
    "    return coef"
   ]
  },
  {
   "cell_type": "code",
   "execution_count": null,
   "id": "8f0ac54b-ec4a-48a7-ba46-5aac3b3ea1a3",
   "metadata": {},
   "outputs": [],
   "source": [
    "x_inicial = 0\n",
    "x_final = 1\n",
    "\n",
    "basis_func_1 = lambda x: np.sin(1* np.pi * x)\n",
    "basis_func_2 = lambda x: np.sin(2* np.pi * x)\n",
    "basis_func_3 = lambda x: np.sin(3* np.pi * x)\n",
    "basis_func_4 = lambda x: np.sin(4* np.pi * x)\n",
    "\n",
    "basis_functions = [basis_func_1, basis_func_2, basis_func_3]\n",
    "\n",
    "f = lambda x: x\n",
    "\n",
    "sol_analitica = lambda x: x - np.sinh(x)/np.sinh(1)\n",
    "\n",
    "coef_gaussian = galerkin_method_2(basis_functions, f, funcional_fonte_1, x_inicial, x_final, gaussian_quad)\n",
    "sol_aproximada = linear_combination_function(coef_gaussian, basis_functions)\n",
    "print(f\"Coordenadas da base: {coef_gaussian}\")\n",
    "\n",
    "X = np.linspace(0,1,100)\n",
    "plot_sol(X, sol_aproximada, sol_analitica)"
   ]
  },
  {
   "cell_type": "markdown",
   "id": "80c5795a-fdf4-49f8-a8ba-4903517e3787",
   "metadata": {
    "jp-MarkdownHeadingCollapsed": true
   },
   "source": [
    "### Exercício 3:"
   ]
  },
  {
   "cell_type": "code",
   "execution_count": null,
   "id": "db7c0054-2ecc-419d-8a82-3ca95a1977f8",
   "metadata": {},
   "outputs": [],
   "source": [
    "# Para exercício 1:\n",
    "basis_func_1 = lambda x: x*(x-1)\n",
    "basis_func_2 = lambda x: (x**2)*(x-1)\n",
    "basis_func_3 = lambda x: (x**3)*(x-1)\n",
    "\n",
    "basis_functions = [basis_func_1, basis_func_2, basis_func_3]\n",
    "\n",
    "sol_aprox_1_1 = linear_combination_function(coef_1_1, [basis_func_1])\n",
    "sol_aprox_1_2 = linear_combination_function(coef_1_2, [basis_func_1, basis_func_2])\n",
    "sol_aprox_1_3 = linear_combination_function(coef_1_3, [basis_func_1, basis_func_2, basis_func_3])\n",
    "\n",
    "plt.figure(figsize=(15,6))\n",
    "\n",
    "plt.plot(X, np.gradient(sol_aprox_1_1(X)), label='n=1')\n",
    "plt.plot(X, np.gradient(sol_aprox_1_2(X)), label='n=2')\n",
    "plt.plot(X, np.gradient(sol_aprox_1_3(X)), label='n=3')\n",
    "plt.plot(X, np.gradient(sol_analitica(X)), label='solução analítica', linestyle='--')\n",
    "plt.legend()\n",
    "plt.grid(True)\n",
    "\n",
    "plt.savefig(\"C:\\\\Users\\\\Usuario\\\\OneDrive\\\\Documents\\\\UNICAMP\\\\MS712\\\\imagens\\\\last_image.png\")\n",
    "plt.show()"
   ]
  },
  {
   "cell_type": "code",
   "execution_count": null,
   "id": "d00d412e-db3d-4150-9a12-dbbb2e0ce7ce",
   "metadata": {},
   "outputs": [],
   "source": [
    "# Para exercício 2:\n",
    "basis_func_1 = lambda x: np.sin(1* np.pi * x)\n",
    "basis_func_2 = lambda x: np.sin(2* np.pi * x)\n",
    "basis_func_3 = lambda x: np.sin(3* np.pi * x)\n",
    "\n",
    "basis_functions = [basis_func_1, basis_func_2, basis_func_3]\n",
    "\n",
    "sol_aprox_2_1 = linear_combination_function(coef_2_1, [basis_func_1])\n",
    "sol_aprox_2_2 = linear_combination_function(coef_2_2, [basis_func_1, basis_func_2])\n",
    "sol_aprox_2_3 = linear_combination_function(coef_2_3, [basis_func_1, basis_func_2, basis_func_3])\n",
    "\n",
    "plt.figure(figsize=(15,6))\n",
    "\n",
    "plt.plot(X, np.gradient(sol_aprox_2_1(X)), label='n=1')\n",
    "plt.plot(X, np.gradient(sol_aprox_2_2(X)), label='n=2')\n",
    "plt.plot(X, np.gradient(sol_aprox_2_3(X)), label='n=3')\n",
    "plt.plot(X, np.gradient(sol_analitica(X)), label='solução analítica', linestyle='--')\n",
    "plt.legend()\n",
    "plt.grid(True)\n",
    "\n",
    "plt.savefig(\"C:\\\\Users\\\\Usuario\\\\OneDrive\\\\Documents\\\\UNICAMP\\\\MS712\\\\imagens\\\\last_image.png\")\n",
    "plt.show()"
   ]
  },
  {
   "cell_type": "markdown",
   "id": "fd7f49d4-29aa-4254-b938-2a845e190a15",
   "metadata": {},
   "source": [
    "### Exercício 4:\n",
    "\n",
    "Pulei por enquanto (muito estranho)"
   ]
  },
  {
   "cell_type": "markdown",
   "id": "fdc202c6-b0f2-42c3-b0ce-d1a42f5b0712",
   "metadata": {
    "jp-MarkdownHeadingCollapsed": true
   },
   "source": [
    "### Exercício 5:\n",
    "\n",
    "\\begin{equation}\n",
    "\\phi_i(x) = \\sin{(i\\pi x)}\n",
    "\\end{equation}"
   ]
  },
  {
   "cell_type": "markdown",
   "id": "6a227a45-a071-44f9-b20e-4cdfce2001be",
   "metadata": {},
   "source": [
    "item b): $n= 2,4,8$"
   ]
  },
  {
   "cell_type": "code",
   "execution_count": null,
   "id": "88ddc3f3-7979-48f1-a3e8-a174f72e1826",
   "metadata": {},
   "outputs": [],
   "source": [
    "x_inicial = 0\n",
    "x_final = 1\n",
    "sol_analitica = lambda x: x - np.sinh(x)/np.sinh(1)\n",
    "\n",
    "basis_func_1 = lambda x: np.sin(1* np.pi * x)\n",
    "basis_func_2 = lambda x: np.sin(2* np.pi * x)\n",
    "basis_func_3 = lambda x: np.sin(3* np.pi * x)\n",
    "basis_func_4 = lambda x: np.sin(4* np.pi * x)\n",
    "basis_func_5 = lambda x: np.sin(5* np.pi * x)\n",
    "basis_func_6 = lambda x: np.sin(6* np.pi * x)\n",
    "basis_func_7 = lambda x: np.sin(7* np.pi * x)\n",
    "basis_func_8 = lambda x: np.sin(8* np.pi * x)\n",
    "\n",
    "basis_functions = [basis_func_1, basis_func_2, basis_func_3, basis_func_4, basis_func_5, basis_func_6, basis_func_7, basis_func_8]\n",
    "\n",
    "coef_8 = list()\n",
    "for i in range(1, len(basis_functions) + 1):\n",
    "    coef_8.append(2*((-1)**(i+1) / (i**3 * np.pi**3 + i*np.pi)))\n",
    "\n",
    "sol_aproximada_8 = linear_combination_function(coef_8, basis_functions)\n",
    "print(f\"Coordenadas da base: {coef_8}\")\n",
    "\n",
    "X = np.linspace(0,1,100)"
   ]
  },
  {
   "cell_type": "code",
   "execution_count": null,
   "id": "68770ac6-af66-4e7a-8f56-bd22034cfbdb",
   "metadata": {},
   "outputs": [],
   "source": [
    "plt.figure(figsize=(15,6))\n",
    "\n",
    "plt.plot(X, sol_aproximada_2(X), label='n=2')\n",
    "plt.plot(X, sol_aproximada_4(X), label='n=4')\n",
    "plt.plot(X, sol_aproximada_8(X), label='n=8')\n",
    "plt.plot(X, sol_analitica(X), label='solução analítica', linestyle='--')\n",
    "plt.legend()\n",
    "plt.grid(True)\n",
    "plt.title(\"Comparação das soluções aproximadas com a solução analítica\")\n",
    "plt.ylabel(\"y\")\n",
    "plt.xlabel(\"x\")\n",
    "\n",
    "plt.savefig(\"C:\\\\Users\\\\Usuario\\\\OneDrive\\\\Documents\\\\UNICAMP\\\\MS712\\\\imagens\\\\last_image.png\")\n",
    "plt.show()"
   ]
  },
  {
   "cell_type": "code",
   "execution_count": null,
   "id": "62b2724d-8246-4b0b-b067-8c200bc9e073",
   "metadata": {},
   "outputs": [],
   "source": [
    "plt.figure(figsize=(15,6))\n",
    "\n",
    "plt.plot(X, np.gradient(sol_aproximada_2(X)), label='n=2')\n",
    "plt.plot(X, np.gradient(sol_aproximada_4(X)), label='n=4')\n",
    "plt.plot(X, np.gradient(sol_aproximada_8(X)), label='n=8')\n",
    "plt.plot(X, np.gradient(sol_analitica(X)), label='derivada da solução analítica', linestyle='--')\n",
    "plt.legend()\n",
    "plt.grid(True)\n",
    "plt.title(\"Comparação das derivadas das soluções aproximadas com a da solução analítica\")\n",
    "plt.ylabel(\"y\")\n",
    "plt.xlabel(\"x\")\n",
    "\n",
    "\n",
    "plt.savefig(\"C:\\\\Users\\\\Usuario\\\\OneDrive\\\\Documents\\\\UNICAMP\\\\MS712\\\\imagens\\\\last_image.png\")\n",
    "plt.show()"
   ]
  },
  {
   "cell_type": "markdown",
   "id": "22730057-8a53-41a7-a794-86228cdd4029",
   "metadata": {},
   "source": [
    "### Exercício 6:"
   ]
  },
  {
   "cell_type": "markdown",
   "id": "5f3e675f-5897-47e7-a08e-80291492f423",
   "metadata": {},
   "source": [
    " Compare as coordenadas obtidas na letra a) do Exercício 2 com as obtidas pelo\n",
    "programa desenvolvido neste exercício para n = 6 e utilizando 5 intervalos para a\n",
    "integração numérica. A matriz A obtida numericamente é diagonal? Os valores\n",
    "da diagonal são os esperados? Quais as possíveis causas da diferença? É possível\n",
    "identi\u001c",
    "car algum erro apenas analisando as coordenadas?"
   ]
  },
  {
   "cell_type": "code",
   "execution_count": null,
   "id": "051a13e9-d78f-433a-af3b-5a56b4c758fe",
   "metadata": {},
   "outputs": [],
   "source": [
    "x_inicial = 0\n",
    "x_final = 1\n",
    "\n",
    "num_partitions = 1000\n",
    "\n",
    "basis_func_1 = lambda x: np.sin(1* np.pi * x)\n",
    "basis_func_2 = lambda x: np.sin(2* np.pi * x)\n",
    "basis_func_3 = lambda x: np.sin(3* np.pi * x)\n",
    "basis_func_4 = lambda x: np.sin(4* np.pi * x)\n",
    "basis_func_5 = lambda x: np.sin(5* np.pi * x)\n",
    "basis_func_6 = lambda x: np.sin(6* np.pi * x)\n",
    "\n",
    "basis_functions = [basis_func_1, basis_func_2, basis_func_3, basis_func_4, basis_func_5, basis_func_6]\n",
    "\n",
    "f = lambda x: x\n",
    "sol_analitica = lambda x: x - np.sinh(x)/np.sinh(1)\n",
    "\n",
    "coef_ex2 = galerkin_method_2(basis_functions, f, funcional_fonte_1, x_inicial, x_final, gaussian_quad)\n",
    "coef_trap = galerkin_method(basis_functions, f, funcionais_1, x_inicial, x_final, integration_method=trapezoidal_rule, args=num_partitions)"
   ]
  },
  {
   "cell_type": "markdown",
   "id": "72c42235-ef64-429f-bfaa-6f03352e3529",
   "metadata": {},
   "source": [
    "Matriz $A$ calculada utilizando a integração de Trapézio Composto para $\\text{num\\_partitions} =5$\n",
    "\\begin{equation}\n",
    "A =\n",
    "\\begin{bmatrix}\n",
    "  5.43480204e+00 & -1.08846265e-12 &  3.17967874e-13 &  3.77831100e-12 & -3.87334609e-12 &  2.22044605e-13 \\\\\n",
    " -1.08846265e-12 &  2.02392062e+01 &  2.22932783e-13 & -4.35207426e-12 &  5.02531350e-12 &  5.87175874e+01 \\\\\n",
    "  3.17967874e-13 &  2.22932783e-13 &  4.49132067e+01 & -8.69526673e-12 &  7.35219916e+01 &  1.11306520e-11 \\\\\n",
    "  3.77831100e-12 & -4.35207426e-12 & -8.69526673e-12 &  1.57913587e+02 & -5.76605430e-12 &  8.95283847e-13 \\\\\n",
    " -3.87334609e-12 &  5.02531350e-12 &  7.35219916e+01 & -5.76605430e-12 &  1.23869954e+02 &  3.25073302e-11 \\\\\n",
    "  2.22044605e-13 &  5.87175874e+01 &  1.11306520e-11 &  8.95283847e-13 &  3.25073302e-11 &  1.78152669e+02\n",
    "\\end{bmatrix}\n",
    "\\end{equation}\n",
    "Há valores não-nulos fora da diagonal em $(2,6), (6,2), (3,5), (5,3)$. Até o momento eu não sei o porquê isto acontece.\n",
    "\n",
    "Matriz $A$ calculada utilizando a integração de Trapézio Composto para $\\text{num\\_partitions} =1000$\n",
    "\\begin{equation}\n",
    "\\begin{bmatrix}\n",
    "  5.43480204e+00 & 5.63734578e-13 & 6.97996215e-13 & 8.23397406e-13 & 6.42401047e-13 & 5.94017995e-13 \\\\\n",
    "  5.63734578e-13 & 2.02392062e+01 & 1.50852348e-12 & 1.38199495e-12 & 1.38572904e-12 & 1.27782469e-12 \\\\\n",
    "  6.97996215e-13 & 1.50852348e-12 & 4.49132067e+01 & 2.02288458e-12 & 1.99717275e-12 & 1.57951019e-12 \\\\\n",
    "  8.23397406e-13 & 1.38199495e-12 & 2.02288458e-12 & 7.94567936e+01 & 2.88070668e-12 & 2.38628559e-12 \\\\\n",
    "  6.42401047e-13 & 1.38572904e-12 & 1.99717275e-12 & 2.88070668e-12 & 1.23869954e+02 & 3.35663518e-12 \\\\\n",
    "  5.94017995e-13 & 1.27782469e-12 & 1.57951019e-12 & 2.38628559e-12 & 3.35663518e-12 & 1.78152669e+02\n",
    "\\end{bmatrix}\n",
    "\\end{equation}"
   ]
  },
  {
   "cell_type": "code",
   "execution_count": null,
   "id": "f00c5cfd-0799-4053-a4a4-21851c776ae6",
   "metadata": {},
   "outputs": [],
   "source": [
    "sol_aprox_trap = linear_combination_function(coef_trap, basis_functions)\n",
    "sol_aprox_ex2 = linear_combination_function(coef_ex2, basis_functions)\n",
    "\n",
    "plot_sol(X, sol_aprox_trap, sol_analitica)\n",
    "plot_sol(X, sol_aprox_ex2, sol_analitica)\n",
    "\n",
    "print(coef_ex2)\n",
    "print(coef_trap)"
   ]
  },
  {
   "cell_type": "markdown",
   "id": "e1f655da-eed3-448c-b241-60839be141d8",
   "metadata": {},
   "source": [
    "item b)\n",
    "\\begin{equation}\n",
    "\\phi_i(x) = x^i(x−1).\n",
    "\\end{equation}\n",
    "para $n=10$ com $\\text{num\\_partitions} = 100$"
   ]
  },
  {
   "cell_type": "code",
   "execution_count": 53,
   "id": "b9a8df68-33fb-4833-9bdf-ddf457fa92d5",
   "metadata": {},
   "outputs": [],
   "source": [
    "x_inicial = 0\n",
    "x_final = 1\n",
    "num_partitions = 100000\n",
    "\n",
    "basis_func_1 = lambda x: x*(x-1)\n",
    "basis_func_2 = lambda x: (x**2)*(x-1)\n",
    "basis_func_3 = lambda x: (x**3)*(x-1)\n",
    "basis_func_4 = lambda x: (x**4)*(x-1)\n",
    "basis_func_5 = lambda x: (x**5)*(x-1)\n",
    "basis_func_6 = lambda x: (x**6)*(x-1)\n",
    "basis_func_7 = lambda x: (x**7)*(x-1)\n",
    "basis_func_8 = lambda x: (x**8)*(x-1)\n",
    "basis_func_9 = lambda x: (x**9)*(x-1)\n",
    "basis_func_10 = lambda x: (x**10)*(x-1)\n",
    "\n",
    "basis_functions = [basis_func_1, basis_func_2, basis_func_3, basis_func_4, basis_func_5, basis_func_6, basis_func_7, basis_func_8, basis_func_9, basis_func_10]\n",
    "\n",
    "f = lambda x: x\n",
    "sol_analitica  = lambda x: x - np.sinh(x)/np.sinh(1)\n",
    "\n",
    "coef_ex1 = galerkin_method(basis_functions, f, funcionais_1, x_inicial, x_final, gaussian_quad)\n",
    "coef_trap = galerkin_method(basis_functions, f, funcionais_1, x_inicial, x_final, integration_method=trapezoidal_rule, args=num_partitions)"
   ]
  }
 ],
 "metadata": {
  "kernelspec": {
   "display_name": "Python 3 (ipykernel)",
   "language": "python",
   "name": "python3"
  },
  "language_info": {
   "codemirror_mode": {
    "name": "ipython",
    "version": 3
   },
   "file_extension": ".py",
   "mimetype": "text/x-python",
   "name": "python",
   "nbconvert_exporter": "python",
   "pygments_lexer": "ipython3",
   "version": "3.12.3"
  }
 },
 "nbformat": 4,
 "nbformat_minor": 5
}
